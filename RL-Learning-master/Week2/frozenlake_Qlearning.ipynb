{
 "cells": [
  {
   "cell_type": "markdown",
   "metadata": {},
   "source": [
    "# Q-learning applied to FrozenLake "
   ]
  },
  {
   "cell_type": "markdown",
   "metadata": {},
   "source": [
    "#### **Remember**: Q-learning is a model free, off-policy algorithm that can be used to find an optimal action using a Q function. Q can be represented as a table that contains a value for each pair state-action\n",
    "    \n",
    "To review Q-learning watch [Q learning explained by Siraj](https://www.youtube.com/watch?v=aCEvtRtNO-M)"
   ]
  },
  {
   "cell_type": "markdown",
   "metadata": {},
   "source": [
    "#### Q-learning pipeline is quite easy an can be summarised in 5 blocks:\n",
    "<br>\n",
    "<br>\n",
    "![](img/short_diag.jpg)"
   ]
  },
  {
   "cell_type": "markdown",
   "metadata": {},
   "source": [
    "## WHAT'S THE ENVIRONMENT?\n",
    "\n",
    "#### We'll apply Q-learning on a [Gym](http://gym.openai.com/) game called [FrozenLake](https://gym.openai.com/envs/FrozenLake-v0/)\n",
    "\n",
    "![](img/frozenlake_v0.png)"
   ]
  },
  {
   "cell_type": "markdown",
   "metadata": {},
   "source": [
    "## LET'S START TO CODE"
   ]
  },
  {
   "cell_type": "code",
   "execution_count": null,
   "metadata": {},
   "outputs": [],
   "source": [
    "## In case you have to install gym\n",
    "!pip install gym"
   ]
  },
  {
   "cell_type": "code",
   "execution_count": 1,
   "metadata": {},
   "outputs": [],
   "source": [
    "import gym\n",
    "import random\n",
    "from collections import namedtuple\n",
    "import collections\n",
    "import numpy as np\n",
    "import matplotlib.pyplot as plt\n",
    "%matplotlib inline  "
   ]
  },
  {
   "cell_type": "markdown",
   "metadata": {},
   "source": [
    "### BASIC FUNCTION TO CHOOSE AN ACTION FOLLOWING DIFFERENT POLICIES"
   ]
  },
  {
   "cell_type": "code",
   "execution_count": 2,
   "metadata": {},
   "outputs": [],
   "source": [
    "def select_eps_greedy_action(table, obs, n_actions):\n",
    "    '''\n",
    "    Select the action using a ε-greedy policy (add a randomness ε for the choice of the action)\n",
    "    '''\n",
    "    value, action = best_action_value(table, obs)\n",
    "\n",
    "    if random.random() < epsilon:\n",
    "        return random.randint(0,n_actions-1)\n",
    "    else:\n",
    "        return action\n",
    "\n",
    "def select_greedy_action(table, obs, n_actions):\n",
    "    '''\n",
    "    Select the action using a greedy policy (take the best action according to the policy)\n",
    "    '''\n",
    "    value, action = best_action_value(table, obs)\n",
    "    return action\n",
    "\n",
    "\n",
    "def best_action_value(table, state):\n",
    "    '''\n",
    "    Exploring the table, take the best action that maximize Q(s,a)\n",
    "    '''\n",
    "    best_action = 0\n",
    "    max_value = 0\n",
    "    for action in range(n_actions):\n",
    "        if table[(state, action)] > max_value:\n",
    "            best_action = action\n",
    "            max_value = table[(state, action)]\n",
    "\n",
    "    return max_value, best_action"
   ]
  },
  {
   "cell_type": "markdown",
   "metadata": {},
   "source": [
    "![](img/Q_function.png)"
   ]
  },
  {
   "cell_type": "code",
   "execution_count": 3,
   "metadata": {},
   "outputs": [],
   "source": [
    "def Q_learning(table, obs0, obs1, reward, action):\n",
    "    '''\n",
    "    Q-learning. Update Q(obs0,action) according to Q(obs1,*) and the reward just obtained\n",
    "    '''\n",
    "    \n",
    "    # Take the best value reachable from the state obs1\n",
    "    best_value, _ = best_action_value(table, obs1)\n",
    "\n",
    "    # Calculate Q-target value \n",
    "    Q_target = reward + GAMMA * best_value\n",
    "\n",
    "    # Calculate the Q-error between the target and the previous value\n",
    "    Q_error = Q_target - table[(obs0, action)]\n",
    "\n",
    "    # Update Q(obs0,action)\n",
    "    table[(obs0, action)] += LEARNING_RATE * Q_error"
   ]
  },
  {
   "cell_type": "markdown",
   "metadata": {},
   "source": [
    "### TEST THE POLICY"
   ]
  },
  {
   "cell_type": "code",
   "execution_count": 4,
   "metadata": {},
   "outputs": [],
   "source": [
    "def test_game(env, table, n_actions):\n",
    "    '''\n",
    "    Test the new table playing TEST_EPISODES games\n",
    "    '''\n",
    "    reward_games = []\n",
    "    for _ in range(TEST_EPISODES):\n",
    "        obs = env.reset()\n",
    "        rewards = 0\n",
    "        while True:\n",
    "            # Act greedly \n",
    "            next_obs, reward, done, _ = env.step(select_greedy_action(table, obs, n_actions))\n",
    "            obs = next_obs\n",
    "            rewards += reward\n",
    "\n",
    "            if done:\n",
    "                reward_games.append(rewards)\n",
    "                break\n",
    "\n",
    "    return np.mean(reward_games)"
   ]
  },
  {
   "cell_type": "markdown",
   "metadata": {},
   "source": [
    "### MAIN PROCEDURE"
   ]
  },
  {
   "cell_type": "code",
   "execution_count": 5,
   "metadata": {},
   "outputs": [],
   "source": [
    "# Some hyperparameters..\n",
    "GAMMA = 0.95\n",
    "\n",
    "# NB: the decay rate allow to regulate the Exploration - Exploitation trade-off\n",
    "#     start with a EPSILON of 1 and decay until reach 0\n",
    "epsilon = 1.0\n",
    "EPS_DECAY_RATE = 0.9993\n",
    "\n",
    "LEARNING_RATE = 0.8\n",
    "\n",
    "# .. and constants\n",
    "TEST_EPISODES = 100\n",
    "MAX_GAMES = 15001"
   ]
  },
  {
   "cell_type": "code",
   "execution_count": 6,
   "metadata": {},
   "outputs": [
    {
     "name": "stdout",
     "output_type": "stream",
     "text": [
      "\tEp: 0 Test reward: 0.0 1.0\n",
      "\tEp: 1000 Test reward: 0.0 0.5\n",
      "\tEp: 2000 Test reward: 0.0 0.25\n",
      "\tEp: 3000 Test reward: 0.0 0.12\n",
      "\tEp: 4000 Test reward: 0.31 0.06\n",
      "\tEp: 5000 Test reward: 0.59 0.03\n",
      "\tEp: 6000 Test reward: 0.64 0.01\n",
      "\tEp: 7000 Test reward: 0.71 0.01\n",
      "\tEp: 8000 Test reward: 0.72 0.0\n",
      "\tEp: 9000 Test reward: 0.47 0.0\n",
      "\tEp: 10000 Test reward: 0.74 0.0\n",
      "\tEp: 11000 Test reward: 0.75 0.0\n",
      "\tEp: 12000 Test reward: 0.7 0.0\n",
      "\tEp: 13000 Test reward: 0.81 0.0\n",
      "\tEp: 14000 Test reward: 0.79 0.0\n",
      "\tEp: 15000 Test reward: 0.72 0.0\n"
     ]
    },
    {
     "data": {
      "image/png": "[encoded data removed]",
      "text/plain": [
       "<matplotlib.figure.Figure at 0x29c03067438>"
      ]
     },
     "metadata": {},
     "output_type": "display_data"
    }
   ],
   "source": [
    "# Create the environment\n",
    "#env = gym.make('Taxi-v2')\n",
    "env = gym.make(\"FrozenLake-v0\")\n",
    "obs = env.reset()\n",
    "\n",
    "obs_length = env.observation_space.n\n",
    "n_actions = env.action_space.n\n",
    "\n",
    "reward_count = 0\n",
    "games_count = 0\n",
    "\n",
    "# Create and initialize the table with 0.0\n",
    "table = collections.defaultdict(float)\n",
    "    \n",
    "test_rewards_list = []\n",
    "\n",
    "while games_count < MAX_GAMES:\n",
    "\n",
    "    # Select the action following an ε-greedy policy\n",
    "    action = select_eps_greedy_action(table, obs, n_actions)\n",
    "    next_obs, reward, done, _ = env.step(action)\n",
    "\n",
    "    # Update the Q-table\n",
    "    Q_learning(table, obs, next_obs, reward, action)\n",
    "\n",
    "    reward_count += reward\n",
    "    obs = next_obs\n",
    "\n",
    "    if done:\n",
    "        epsilon *= EPS_DECAY_RATE\n",
    "\n",
    "        # Test the new table every 1k games\n",
    "        if games_count % 1000 == 0:\n",
    "            test_reward = test_game(env, table, n_actions)\n",
    "            print('\\tEp:', games_count, 'Test reward:', test_reward, np.round(epsilon,2))\n",
    "\n",
    "            test_rewards_list.append(test_reward)\n",
    "\n",
    "        obs = env.reset()\n",
    "        reward_count = 0\n",
    "        games_count += 1    \n",
    "\n",
    "# Plot the accuracy over the number of steps\n",
    "plt.figure(figsize=(20,10))\n",
    "plt.xlabel('Steps')\n",
    "plt.ylabel('Accurracy')\n",
    "plt.plot(test_rewards_list)\n",
    "plt.show()"
   ]
  },
  {
   "cell_type": "markdown",
   "metadata": {},
   "source": [
    "#### NB: in case you want to apply Q-learning to continuous state and actions games, you have to quantize the state and action spaces"
   ]
  },
  {
   "cell_type": "code",
   "execution_count": null,
   "metadata": {},
   "outputs": [],
   "source": []
  }
 ],
 "metadata": {
  "kernelspec": {
   "display_name": "Python 3",
   "language": "python",
   "name": "python3"
  },
  "language_info": {
   "codemirror_mode": {
    "name": "ipython",
    "version": 3
   },
   "file_extension": ".py",
   "mimetype": "text/x-python",
   "name": "python",
   "nbconvert_exporter": "python",
   "pygments_lexer": "ipython3",
   "version": "3.5.2"
  }
 },
 "nbformat": 4,
 "nbformat_minor": 2
}
